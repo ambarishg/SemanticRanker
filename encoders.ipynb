{
 "cells": [
  {
   "cell_type": "code",
   "execution_count": null,
   "metadata": {},
   "outputs": [],
   "source": [
    "import json\n",
    "from sentence_transformers import SentenceTransformer, CrossEncoder, util\n",
    "import gzip\n",
    "import os\n",
    "from PyPDF2 import PdfReader"
   ]
  },
  {
   "cell_type": "code",
   "execution_count": null,
   "metadata": {},
   "outputs": [],
   "source": [
    "query = \"What are Annelids?\""
   ]
  },
  {
   "cell_type": "code",
   "execution_count": null,
   "metadata": {},
   "outputs": [],
   "source": [
    "#We use the Bi-Encoder to encode all passages, so that we can use it with semantic search\n",
    "bi_encoder = SentenceTransformer('multi-qa-MiniLM-L6-cos-v1')\n",
    "top_k = 32  #Number of passages we want to retrieve with the bi-encoder"
   ]
  },
  {
   "cell_type": "code",
   "execution_count": null,
   "metadata": {},
   "outputs": [],
   "source": [
    "#We use a cross-encoder, to re-rank the results list to improve the quality\n",
    "cross_encoder = CrossEncoder('cross-encoder/ms-marco-MiniLM-L-6-v2')"
   ]
  },
  {
   "cell_type": "code",
   "execution_count": null,
   "metadata": {},
   "outputs": [],
   "source": [
    "FILE_PATH = \"C:/Ambarish/NCERT/CHAP04-BIOLOGY-CLASS11.pdf\""
   ]
  },
  {
   "cell_type": "code",
   "execution_count": null,
   "metadata": {},
   "outputs": [],
   "source": [
    "\"\"\"\n",
    "This function extracts text data from a PDF file.\n",
    "\n",
    "Parameters:\n",
    "- file_path (str): The path to the PDF file.\n",
    "\n",
    "Returns:\n",
    "- str: The extracted text from the PDF file.\n",
    "\n",
    "Raises:\n",
    "- Exception: If there is an error reading the file.\n",
    "\n",
    "Example Usage:\n",
    ">>> get_pdf_data('path/to/file.pdf')\n",
    "\"This is the extracted text from the first 3 pages of the PDF file.\"\n",
    "\"\"\"\n",
    "def get_pdf_data(file_path):\n",
    "    reader = PdfReader(file_path)\n",
    "    full_doc_text = \"\"\n",
    "    pages = reader.pages\n",
    "    num_pages = len(pages) \n",
    "    \n",
    "    try:\n",
    "        for page in range(num_pages):\n",
    "            current_page = reader.pages[page]\n",
    "            text = current_page.extract_text()\n",
    "            full_doc_text += text\n",
    "    except:\n",
    "        print(\"Error reading file\")\n",
    "    finally:\n",
    "        return full_doc_text"
   ]
  },
  {
   "cell_type": "code",
   "execution_count": null,
   "metadata": {},
   "outputs": [],
   "source": [
    "# Divide the text into chunks of chunk_length \n",
    "# [ default is 500] characters\n",
    "\n",
    "def get_chunks(fulltext:str,chunk_length =500) -> list:\n",
    "    text = fulltext\n",
    "\n",
    "    chunks = []\n",
    "    while len(text) > chunk_length:\n",
    "        last_period_index = text[:chunk_length].rfind('.')\n",
    "        if last_period_index == -1:\n",
    "            last_period_index = chunk_length\n",
    "        chunks.append(text[:last_period_index])\n",
    "        text = text[last_period_index+1:]\n",
    "    chunks.append(text)\n",
    "\n",
    "    return chunks"
   ]
  },
  {
   "cell_type": "code",
   "execution_count": 8,
   "metadata": {},
   "outputs": [],
   "source": [
    "full_doc_text = get_pdf_data(FILE_PATH)"
   ]
  },
  {
   "cell_type": "code",
   "execution_count": 9,
   "metadata": {},
   "outputs": [
    {
     "name": "stdout",
     "output_type": "stream",
     "text": [
      "Full doc text length: 31802\n"
     ]
    }
   ],
   "source": [
    "print(f'Full doc text length: {len(full_doc_text)}')"
   ]
  },
  {
   "cell_type": "code",
   "execution_count": 10,
   "metadata": {},
   "outputs": [],
   "source": [
    "Lines =get_chunks(full_doc_text,500)"
   ]
  },
  {
   "cell_type": "code",
   "execution_count": 11,
   "metadata": {},
   "outputs": [
    {
     "data": {
      "text/plain": [
       "73"
      ]
     },
     "execution_count": 11,
     "metadata": {},
     "output_type": "execute_result"
    }
   ],
   "source": [
    "len(Lines)"
   ]
  },
  {
   "cell_type": "code",
   "execution_count": 12,
   "metadata": {},
   "outputs": [
    {
     "name": "stderr",
     "output_type": "stream",
     "text": [
      "Batches: 100%|██████████| 3/3 [00:05<00:00,  1.73s/it]\n"
     ]
    }
   ],
   "source": [
    "embeddings_all = bi_encoder.encode(Lines,show_progress_bar=True)"
   ]
  },
  {
   "cell_type": "code",
   "execution_count": 13,
   "metadata": {},
   "outputs": [],
   "source": [
    "question_embedding = bi_encoder.encode(query, convert_to_tensor=True)"
   ]
  },
  {
   "cell_type": "markdown",
   "metadata": {},
   "source": [
    "Sematic Search"
   ]
  },
  {
   "cell_type": "code",
   "execution_count": 14,
   "metadata": {},
   "outputs": [],
   "source": [
    "hits = util.semantic_search(question_embedding, embeddings_all, top_k=top_k)\n",
    "hits = hits[0]  # Get the hits for the first query"
   ]
  },
  {
   "cell_type": "code",
   "execution_count": 15,
   "metadata": {},
   "outputs": [
    {
     "data": {
      "text/plain": [
       "[{'corpus_id': 25, 'score': 0.6500279307365417},\n",
       " {'corpus_id': 64, 'score': 0.5820745825767517},\n",
       " {'corpus_id': 27, 'score': 0.5067367553710938},\n",
       " {'corpus_id': 32, 'score': 0.43581706285476685},\n",
       " {'corpus_id': 26, 'score': 0.4296877384185791},\n",
       " {'corpus_id': 42, 'score': 0.40576884150505066},\n",
       " {'corpus_id': 20, 'score': 0.39878952503204346},\n",
       " {'corpus_id': 18, 'score': 0.386780709028244},\n",
       " {'corpus_id': 41, 'score': 0.37630388140678406},\n",
       " {'corpus_id': 17, 'score': 0.3688402473926544},\n",
       " {'corpus_id': 31, 'score': 0.36617720127105713},\n",
       " {'corpus_id': 71, 'score': 0.3617857098579407},\n",
       " {'corpus_id': 61, 'score': 0.3545941114425659},\n",
       " {'corpus_id': 44, 'score': 0.3508317768573761},\n",
       " {'corpus_id': 23, 'score': 0.3482189476490021},\n",
       " {'corpus_id': 52, 'score': 0.33426812291145325},\n",
       " {'corpus_id': 19, 'score': 0.32377803325653076},\n",
       " {'corpus_id': 66, 'score': 0.3220410645008087},\n",
       " {'corpus_id': 7, 'score': 0.3106873035430908},\n",
       " {'corpus_id': 65, 'score': 0.3043312728404999},\n",
       " {'corpus_id': 45, 'score': 0.29935669898986816},\n",
       " {'corpus_id': 21, 'score': 0.29166650772094727},\n",
       " {'corpus_id': 37, 'score': 0.2889370918273926},\n",
       " {'corpus_id': 53, 'score': 0.2842021882534027},\n",
       " {'corpus_id': 35, 'score': 0.28132861852645874},\n",
       " {'corpus_id': 3, 'score': 0.28081774711608887},\n",
       " {'corpus_id': 10, 'score': 0.27767977118492126},\n",
       " {'corpus_id': 38, 'score': 0.27529066801071167},\n",
       " {'corpus_id': 28, 'score': 0.275229275226593},\n",
       " {'corpus_id': 47, 'score': 0.27408212423324585},\n",
       " {'corpus_id': 51, 'score': 0.274007648229599},\n",
       " {'corpus_id': 29, 'score': 0.27250728011131287}]"
      ]
     },
     "execution_count": 15,
     "metadata": {},
     "output_type": "execute_result"
    }
   ],
   "source": [
    "hits"
   ]
  },
  {
   "cell_type": "code",
   "execution_count": 16,
   "metadata": {},
   "outputs": [
    {
     "data": {
      "text/plain": [
       "32"
      ]
     },
     "execution_count": 16,
     "metadata": {},
     "output_type": "execute_result"
    }
   ],
   "source": [
    "len(hits)"
   ]
  },
  {
   "cell_type": "markdown",
   "metadata": {},
   "source": [
    "Semantic Reranking"
   ]
  },
  {
   "cell_type": "code",
   "execution_count": 17,
   "metadata": {},
   "outputs": [],
   "source": [
    "##### Re-Ranking #####\n",
    "# Now, score all retrieved passages with the cross_encoder\n",
    "cross_inp = [[query, Lines[hit['corpus_id']]] for hit in hits]\n",
    "cross_scores = cross_encoder.predict(cross_inp)"
   ]
  },
  {
   "cell_type": "code",
   "execution_count": 18,
   "metadata": {},
   "outputs": [],
   "source": [
    "# Sort results by the cross-encoder scores\n",
    "for idx in range(len(cross_scores)):\n",
    "    hits[idx]['cross-score'] = cross_scores[idx]"
   ]
  },
  {
   "cell_type": "code",
   "execution_count": 19,
   "metadata": {},
   "outputs": [
    {
     "data": {
      "text/plain": [
       "[{'corpus_id': 25, 'score': 0.6500279307365417, 'cross-score': 7.34903},\n",
       " {'corpus_id': 64, 'score': 0.5820745825767517, 'cross-score': 6.0799055},\n",
       " {'corpus_id': 27, 'score': 0.5067367553710938, 'cross-score': 0.6422741},\n",
       " {'corpus_id': 32, 'score': 0.43581706285476685, 'cross-score': -8.577603},\n",
       " {'corpus_id': 26, 'score': 0.4296877384185791, 'cross-score': 1.1963358},\n",
       " {'corpus_id': 42, 'score': 0.40576884150505066, 'cross-score': -8.462291},\n",
       " {'corpus_id': 20, 'score': 0.39878952503204346, 'cross-score': -7.3358374},\n",
       " {'corpus_id': 18, 'score': 0.386780709028244, 'cross-score': -9.917613},\n",
       " {'corpus_id': 41, 'score': 0.37630388140678406, 'cross-score': -9.6821375},\n",
       " {'corpus_id': 17, 'score': 0.3688402473926544, 'cross-score': -8.8455305},\n",
       " {'corpus_id': 31, 'score': 0.36617720127105713, 'cross-score': -9.399993},\n",
       " {'corpus_id': 71, 'score': 0.3617857098579407, 'cross-score': -4.7287617},\n",
       " {'corpus_id': 61, 'score': 0.3545941114425659, 'cross-score': -3.5549932},\n",
       " {'corpus_id': 44, 'score': 0.3508317768573761, 'cross-score': -10.284412},\n",
       " {'corpus_id': 23, 'score': 0.3482189476490021, 'cross-score': -8.833173},\n",
       " {'corpus_id': 52, 'score': 0.33426812291145325, 'cross-score': -10.516197},\n",
       " {'corpus_id': 19, 'score': 0.32377803325653076, 'cross-score': -9.8906555},\n",
       " {'corpus_id': 66, 'score': 0.3220410645008087, 'cross-score': -9.829408},\n",
       " {'corpus_id': 7, 'score': 0.3106873035430908, 'cross-score': -2.2745957},\n",
       " {'corpus_id': 65, 'score': 0.3043312728404999, 'cross-score': -7.4494085},\n",
       " {'corpus_id': 45, 'score': 0.29935669898986816, 'cross-score': -9.248116},\n",
       " {'corpus_id': 21, 'score': 0.29166650772094727, 'cross-score': -8.242816},\n",
       " {'corpus_id': 37, 'score': 0.2889370918273926, 'cross-score': -10.259737},\n",
       " {'corpus_id': 53, 'score': 0.2842021882534027, 'cross-score': -9.94278},\n",
       " {'corpus_id': 35, 'score': 0.28132861852645874, 'cross-score': -7.703805},\n",
       " {'corpus_id': 3, 'score': 0.28081774711608887, 'cross-score': -3.2081892},\n",
       " {'corpus_id': 10, 'score': 0.27767977118492126, 'cross-score': -10.254072},\n",
       " {'corpus_id': 38, 'score': 0.27529066801071167, 'cross-score': -10.399823},\n",
       " {'corpus_id': 28, 'score': 0.275229275226593, 'cross-score': -8.09626},\n",
       " {'corpus_id': 47, 'score': 0.27408212423324585, 'cross-score': -8.737501},\n",
       " {'corpus_id': 51, 'score': 0.274007648229599, 'cross-score': -9.869844},\n",
       " {'corpus_id': 29, 'score': 0.27250728011131287, 'cross-score': -9.64173}]"
      ]
     },
     "execution_count": 19,
     "metadata": {},
     "output_type": "execute_result"
    }
   ],
   "source": [
    "hits"
   ]
  },
  {
   "cell_type": "code",
   "execution_count": 20,
   "metadata": {},
   "outputs": [
    {
     "name": "stdout",
     "output_type": "stream",
     "text": [
      "\n",
      "-------------------------\n",
      "\n",
      "Top-3 Bi-Encoder Retrieval hits\n",
      "\t0.650\t6 Phylum – Annelida They may be aquatic (marine and fresh water) or terrestrial; free-living, and sometimes parasitic. They exhibit organ-system level of body organisation and bilateral symmetry. They are triploblastic, metamerically segmented and coelomate animals. Their body surface is distinctly marked out into segments  or metameres  and, hence, the phylum name Annelida (Latin, annulus  : little ring) (Figure 4.11). They possess longitudinal and circular muscles which help in locomotion\n",
      "\t0.582\t Aschelminthes are pseudocoelomates and  include parasitic as well as non-parasitic roundworms. Annelids are metamerically segmented animals with a true coelom. The arthropods are the most abundant group of animals characterised by the presence of jointed appendages. The molluscs have a soft body surrounded by an external calcareous shell. The body is covered with external skeleton made of chitin. The echinoderms possess a spiny skin\n",
      "\t0.507\t Examples : Nereis , Pheretima  (Earthworm) and Hirudinaria  (Blood sucking leech).Figure 4.11 Examples of Annelida : (a) Nereis (b) HirudinariaMale Female Figure 4.10 Example of Aschelminthes: Roundworm Rationalised 2023-24 44 BIOLOGY 4.2.7 Phylum – Arthropoda This is the largest phylum of Animalia which includes insects. Over two-thirds of all named species on earth are arthropods (Figure 4.12). They have organ-system level of organisation\n"
     ]
    }
   ],
   "source": [
    "# Output of top-5 hits from bi-encoder\n",
    "print(\"\\n-------------------------\\n\")\n",
    "print(\"Top-3 Bi-Encoder Retrieval hits\")\n",
    "hits = sorted(hits, key=lambda x: x['score'], reverse=True)\n",
    "for hit in hits[0:3]:\n",
    "    print(\"\\t{:.3f}\\t{}\".format(hit['score'], Lines[hit['corpus_id']].replace(\"\\n\", \" \")))\n"
   ]
  },
  {
   "cell_type": "code",
   "execution_count": 21,
   "metadata": {},
   "outputs": [
    {
     "name": "stdout",
     "output_type": "stream",
     "text": [
      "\n",
      "-------------------------\n",
      "\n",
      "Top-3 Cross-Encoder Re-ranker hits\n",
      "\t7.349\t6 Phylum – Annelida They may be aquatic (marine and fresh water) or terrestrial; free-living, and sometimes parasitic. They exhibit organ-system level of body organisation and bilateral symmetry. They are triploblastic, metamerically segmented and coelomate animals. Their body surface is distinctly marked out into segments  or metameres  and, hence, the phylum name Annelida (Latin, annulus  : little ring) (Figure 4.11). They possess longitudinal and circular muscles which help in locomotion\n",
      "\t6.080\t Aschelminthes are pseudocoelomates and  include parasitic as well as non-parasitic roundworms. Annelids are metamerically segmented animals with a true coelom. The arthropods are the most abundant group of animals characterised by the presence of jointed appendages. The molluscs have a soft body surrounded by an external calcareous shell. The body is covered with external skeleton made of chitin. The echinoderms possess a spiny skin\n",
      "\t1.196\t Aquatic annelids like Nereis  possess lateral appendages, parapodia , which help in swimming. A closed circulatory system is present. Nephridia  (sing. nephridium) help in osmoregulation and excretion. Neural system consists of paired ganglia (sing. ganglion) connected by lateral nerves to a double ventral nerve cord. Nereis, an aquatic form, is dioecious, but earthworms and leeches are monoecious. Reproduction is sexual\n"
     ]
    }
   ],
   "source": [
    "# Output of top-5 hits from re-ranker\n",
    "print(\"\\n-------------------------\\n\")\n",
    "print(\"Top-3 Cross-Encoder Re-ranker hits\")\n",
    "hits = sorted(hits, key=lambda x: x['cross-score'], reverse=True)\n",
    "for hit in hits[0:3]:\n",
    "    print(\"\\t{:.3f}\\t{}\".format(hit['cross-score'], Lines[hit['corpus_id']].replace(\"\\n\", \" \")))"
   ]
  },
  {
   "cell_type": "code",
   "execution_count": 22,
   "metadata": {},
   "outputs": [
    {
     "data": {
      "text/plain": [
       "[{'corpus_id': 25, 'score': 0.6500279307365417, 'cross-score': 7.34903},\n",
       " {'corpus_id': 64, 'score': 0.5820745825767517, 'cross-score': 6.0799055},\n",
       " {'corpus_id': 26, 'score': 0.4296877384185791, 'cross-score': 1.1963358},\n",
       " {'corpus_id': 27, 'score': 0.5067367553710938, 'cross-score': 0.6422741},\n",
       " {'corpus_id': 7, 'score': 0.3106873035430908, 'cross-score': -2.2745957},\n",
       " {'corpus_id': 3, 'score': 0.28081774711608887, 'cross-score': -3.2081892},\n",
       " {'corpus_id': 61, 'score': 0.3545941114425659, 'cross-score': -3.5549932},\n",
       " {'corpus_id': 71, 'score': 0.3617857098579407, 'cross-score': -4.7287617},\n",
       " {'corpus_id': 20, 'score': 0.39878952503204346, 'cross-score': -7.3358374},\n",
       " {'corpus_id': 65, 'score': 0.3043312728404999, 'cross-score': -7.4494085},\n",
       " {'corpus_id': 35, 'score': 0.28132861852645874, 'cross-score': -7.703805},\n",
       " {'corpus_id': 28, 'score': 0.275229275226593, 'cross-score': -8.09626},\n",
       " {'corpus_id': 21, 'score': 0.29166650772094727, 'cross-score': -8.242816},\n",
       " {'corpus_id': 42, 'score': 0.40576884150505066, 'cross-score': -8.462291},\n",
       " {'corpus_id': 32, 'score': 0.43581706285476685, 'cross-score': -8.577603},\n",
       " {'corpus_id': 47, 'score': 0.27408212423324585, 'cross-score': -8.737501},\n",
       " {'corpus_id': 23, 'score': 0.3482189476490021, 'cross-score': -8.833173},\n",
       " {'corpus_id': 17, 'score': 0.3688402473926544, 'cross-score': -8.8455305},\n",
       " {'corpus_id': 45, 'score': 0.29935669898986816, 'cross-score': -9.248116},\n",
       " {'corpus_id': 31, 'score': 0.36617720127105713, 'cross-score': -9.399993},\n",
       " {'corpus_id': 29, 'score': 0.27250728011131287, 'cross-score': -9.64173},\n",
       " {'corpus_id': 41, 'score': 0.37630388140678406, 'cross-score': -9.6821375},\n",
       " {'corpus_id': 66, 'score': 0.3220410645008087, 'cross-score': -9.829408},\n",
       " {'corpus_id': 51, 'score': 0.274007648229599, 'cross-score': -9.869844},\n",
       " {'corpus_id': 19, 'score': 0.32377803325653076, 'cross-score': -9.8906555},\n",
       " {'corpus_id': 18, 'score': 0.386780709028244, 'cross-score': -9.917613},\n",
       " {'corpus_id': 53, 'score': 0.2842021882534027, 'cross-score': -9.94278},\n",
       " {'corpus_id': 10, 'score': 0.27767977118492126, 'cross-score': -10.254072},\n",
       " {'corpus_id': 37, 'score': 0.2889370918273926, 'cross-score': -10.259737},\n",
       " {'corpus_id': 44, 'score': 0.3508317768573761, 'cross-score': -10.284412},\n",
       " {'corpus_id': 38, 'score': 0.27529066801071167, 'cross-score': -10.399823},\n",
       " {'corpus_id': 52, 'score': 0.33426812291145325, 'cross-score': -10.516197}]"
      ]
     },
     "execution_count": 22,
     "metadata": {},
     "output_type": "execute_result"
    }
   ],
   "source": [
    "hits"
   ]
  },
  {
   "cell_type": "code",
   "execution_count": null,
   "metadata": {},
   "outputs": [],
   "source": []
  }
 ],
 "metadata": {
  "kernelspec": {
   "display_name": ".venv",
   "language": "python",
   "name": "python3"
  },
  "language_info": {
   "codemirror_mode": {
    "name": "ipython",
    "version": 3
   },
   "file_extension": ".py",
   "mimetype": "text/x-python",
   "name": "python",
   "nbconvert_exporter": "python",
   "pygments_lexer": "ipython3",
   "version": "3.11.6"
  }
 },
 "nbformat": 4,
 "nbformat_minor": 2
}
